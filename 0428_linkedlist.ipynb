{
 "cells": [
  {
   "cell_type": "markdown",
   "metadata": {},
   "source": [
    "### 알고리즘 스터디 시즌2\n",
    "\n",
    "- date: 2019-04-29\n",
    "- participants: @yoonjoo-pil, @cjttkfkd3941\n",
    "- chapters: Linked List"
   ]
  },
  {
   "cell_type": "markdown",
   "metadata": {},
   "source": [
    "# implementing linked list in python"
   ]
  },
  {
   "cell_type": "code",
   "execution_count": 1,
   "metadata": {
    "collapsed": true
   },
   "outputs": [],
   "source": [
    "class Node():\n",
    "    def __init__(self, data):\n",
    "        self.data = data\n",
    "        self.next = None\n",
    "\n",
    "class linkedList():\n",
    "    def __init__(self):\n",
    "        self.head = None\n",
    "        \n",
    "    def addToTail(self, end):\n",
    "        if self.head:\n",
    "            pointer = self.head\n",
    "            while pointer.next:\n",
    "                pointer = pointer.next\n",
    "            pointer.next = Node(end)\n",
    "        else:\n",
    "            self.head = Node(end)\n",
    "            \n",
    "    def deleteNode(self, nodedata):\n",
    "        if self.head.data == nodedata:\n",
    "            if self.head.next:\n",
    "                self.head = self.head.next\n",
    "            else:\n",
    "                self.head = None\n",
    "        else:\n",
    "            pointer = self.head\n",
    "            while pointer.next.data != nodedata:\n",
    "                if pointer.next.next:\n",
    "                    pointer = pointer.next\n",
    "                else:\n",
    "                    return 'no such data'\n",
    "            pointer.next = pointer.next.next\n",
    "            \n",
    "    def __str__(self):\n",
    "        if not self.head:\n",
    "            return 'no node in the linked list'\n",
    "        string = str(self.head.data)\n",
    "        pointer = self.head\n",
    "        while pointer.next:\n",
    "            string += ' -> ' + str(pointer.next.data)\n",
    "            pointer = pointer.next\n",
    "        return string\n",
    "    \n",
    "    def elimDup(self):\n",
    "        if not self.head:\n",
    "            return 'no node in the linked list'\n",
    "        buffer = {self.head.data}\n",
    "        pointer = self.head\n",
    "        while pointer.next:\n",
    "            buffer.add(pointer.data)\n",
    "            if pointer.next.data in buffer:\n",
    "                pointer.next = pointer.next.next\n",
    "            else:\n",
    "                pointer = pointer.next"
   ]
  },
  {
   "cell_type": "code",
   "execution_count": 2,
   "metadata": {
    "collapsed": false
   },
   "outputs": [
    {
     "name": "stdout",
     "output_type": "stream",
     "text": [
      "no node in the linked list\n",
      "4\n",
      "4 -> 5\n",
      "4 -> 5 -> 6\n",
      "5 -> 6\n",
      "5\n",
      "no node in the linked list\n"
     ]
    }
   ],
   "source": [
    "exlink = linkedList()\n",
    "print(exlink)\n",
    "exlink.addToTail(4)\n",
    "print(exlink)\n",
    "exlink.addToTail(5)\n",
    "print(exlink)\n",
    "exlink.addToTail(6)\n",
    "print(exlink)\n",
    "exlink.deleteNode(4)\n",
    "print(exlink)\n",
    "exlink.deleteNode(6)\n",
    "print(exlink)\n",
    "exlink.deleteNode(5)\n",
    "print(exlink)"
   ]
  },
  {
   "cell_type": "markdown",
   "metadata": {},
   "source": [
    "# 2.1 eliminate duplicates"
   ]
  },
  {
   "cell_type": "code",
   "execution_count": 3,
   "metadata": {
    "collapsed": false
   },
   "outputs": [
    {
     "name": "stdout",
     "output_type": "stream",
     "text": [
      "1 -> 2 -> 1 -> 4 -> 5 -> 1 -> 1 -> 4 -> 7\n",
      "1 -> 2 -> 4 -> 5 -> 7\n"
     ]
    }
   ],
   "source": [
    "ex2link = linkedList()\n",
    "for i in [1, 2, 1, 4, 5, 1, 1, 4, 7]:\n",
    "    ex2link.addToTail(i)\n",
    "print(ex2link)\n",
    "ex2link.elimDup()\n",
    "print(ex2link)"
   ]
  }
 ],
 "metadata": {
  "kernelspec": {
   "display_name": "Python 3",
   "language": "python",
   "name": "python3"
  },
  "language_info": {
   "codemirror_mode": {
    "name": "ipython",
    "version": 3
   },
   "file_extension": ".py",
   "mimetype": "text/x-python",
   "name": "python",
   "nbconvert_exporter": "python",
   "pygments_lexer": "ipython3",
   "version": "3.6.0"
  }
 },
 "nbformat": 4,
 "nbformat_minor": 2
}
